{
 "cells": [
  {
   "cell_type": "markdown",
   "id": "b81c6707",
   "metadata": {},
   "source": [
    "# SDG 3\n",
    "**TEAM DATA DIVERS**\\\n",
    "*Written by Sidoine DAKO*"
   ]
  },
  {
   "cell_type": "code",
   "execution_count": null,
   "id": "ad749cc9",
   "metadata": {},
   "outputs": [],
   "source": [
    "# Import the libraries\n",
    "import numpy as np\n",
    "import pandas as pd\n",
    "from scipy.stats import pearsonr\n",
    "from datetime import datetime\n",
    "## Geographical representation\n",
    "import chart_studio.plotly as py\n",
    "import plotly.offline as po\n",
    "import plotly.graph_objs as pg\n",
    "#import plotly.graph_objects as go\n",
    "import matplotlib.pyplot as plt\n",
    "import kaleido # save plotly graph\n",
    "import plotly.express as px\n",
    "po.init_notebook_mode(connected = True)"
   ]
  },
  {
   "cell_type": "code",
   "execution_count": null,
   "id": "aaaa53ee",
   "metadata": {},
   "outputs": [],
   "source": [
    "# Import the dataset\n",
    "vac_data=pd.read_csv('https://covid19.who.int/who-data/vaccination-data.csv') #https://covid19.who.int/who-data/vaccination-data.csv\n",
    "vac_data.head()"
   ]
  },
  {
   "cell_type": "code",
   "execution_count": null,
   "id": "aefb44c1",
   "metadata": {},
   "outputs": [],
   "source": [
    "vac_data.info()"
   ]
  },
  {
   "cell_type": "code",
   "execution_count": null,
   "id": "ada48c76",
   "metadata": {},
   "outputs": [],
   "source": [
    "# Remove the NA in the dataset\n",
    "print(any(vac_data.isna())) # Verify if there is missing data\n",
    "np.sum(vac_data.isna()) # Total missing data values"
   ]
  },
  {
   "cell_type": "code",
   "execution_count": null,
   "id": "595397f3",
   "metadata": {},
   "outputs": [],
   "source": [
    "# Remove the missing values\n",
    "vac_data_rm=vac_data.dropna(axis=0,how=\"all\")\n",
    "vac_data_rm2=vac_data.dropna(axis=0)\n",
    "np.sum(vac_data_rm2.isna())"
   ]
  },
  {
   "cell_type": "markdown",
   "id": "adc23dec",
   "metadata": {},
   "source": [
    "Compute the correlation"
   ]
  },
  {
   "cell_type": "code",
   "execution_count": null,
   "id": "36e2e074",
   "metadata": {},
   "outputs": [],
   "source": [
    "pearsonr(np.array(vac_data_rm.dropna(axis=0)[\"PERSONS_FULLY_VACCINATED\"]),np.array(vac_data_rm.dropna(axis=0)[\"NUMBER_VACCINES_TYPES_USED\"]))"
   ]
  },
  {
   "cell_type": "markdown",
   "id": "bd161ab7",
   "metadata": {},
   "source": [
    "According to the correlation test, there is a weak relationship between the number of fully vaccinated persons and the number of vaccines types used."
   ]
  },
  {
   "cell_type": "code",
   "execution_count": null,
   "id": "ee0d300c",
   "metadata": {},
   "outputs": [],
   "source": [
    "pearsonr(np.array(vac_data_rm.dropna(axis=0)[\"PERSONS_VACCINATED_1PLUS_DOSE\"]),np.array(vac_data_rm.dropna(axis=0)[\"NUMBER_VACCINES_TYPES_USED\"]))"
   ]
  },
  {
   "cell_type": "markdown",
   "id": "fc1fe777",
   "metadata": {},
   "source": [
    "According to the correlation analysis, the relatioship between the persons which receive one or more than one dose and the number of vaccines types used per country is weak."
   ]
  },
  {
   "cell_type": "markdown",
   "id": "ae4b1219",
   "metadata": {},
   "source": [
    "## Spatial distribution using covid-19 data on vaccine"
   ]
  },
  {
   "cell_type": "code",
   "execution_count": null,
   "id": "e7192efc",
   "metadata": {},
   "outputs": [],
   "source": [
    "full_vac = dict(\n",
    "        type = 'choropleth',\n",
    "        colorscale = 'Portland',\n",
    "        locations = vac_data_rm['COUNTRY'],\n",
    "        locationmode = \"country names\",\n",
    "        z = vac_data_rm['PERSONS_FULLY_VACCINATED'],\n",
    "        text = vac_data_rm['COUNTRY'],\n",
    "        colorbar = {'title' : 'Persons fully vaccinated'},\n",
    "      )\n",
    "\n",
    "layout = dict(title = 'Global persons fully vaccinated against COVID-19 - robinson projection', \n",
    "              geo = dict( projection = {'type':'robinson'}, \n",
    "                         showlakes = True, \n",
    "                         lakecolor = 'rgb(0,191,255)'))\n",
    "fig = pg.Figure(data = [full_vac], \n",
    "              layout = layout)\n",
    "po.iplot(fig)\n",
    "fig.write_image('fully_vac.png',scale=5)"
   ]
  },
  {
   "cell_type": "markdown",
   "id": "511c5ff2",
   "metadata": {},
   "source": [
    "The countries in grey are the one for which we don't have data."
   ]
  },
  {
   "cell_type": "code",
   "execution_count": null,
   "id": "6f8fe3a7",
   "metadata": {},
   "outputs": [],
   "source": [
    "dose1_vac = dict(\n",
    "        type = 'choropleth',\n",
    "        colorscale = 'Portland',\n",
    "        locations = vac_data_rm['COUNTRY'],\n",
    "        locationmode = \"country names\",\n",
    "        z = vac_data_rm['PERSONS_VACCINATED_1PLUS_DOSE'],\n",
    "        text = vac_data_rm['COUNTRY'],\n",
    "        colorbar = {'title' : 'Persons 1+ dose vaccinated'},\n",
    "      )\n",
    "\n",
    "layout = dict(title = 'Global persons one dose vaccinated against COVID-19 - robinson projection', \n",
    "              geo = dict( projection = {'type':'robinson'}, \n",
    "                         showlakes = True, \n",
    "                         lakecolor = 'rgb(0,191,255)'))\n",
    "fig = pg.Figure(data = [dose1_vac], \n",
    "              layout = layout)\n",
    "po.iplot(fig)\n",
    "fig.write_image('One+dose.png',scale=5)"
   ]
  },
  {
   "cell_type": "code",
   "execution_count": null,
   "id": "ee1c2a70",
   "metadata": {},
   "outputs": [],
   "source": [
    "num_vac = dict(\n",
    "        type = 'choropleth',\n",
    "        colorscale = 'Portland',\n",
    "        locations = vac_data_rm['COUNTRY'],\n",
    "        locationmode = \"country names\",\n",
    "            z = vac_data_rm['NUMBER_VACCINES_TYPES_USED'],\n",
    "        text = vac_data_rm['COUNTRY'],\n",
    "        colorbar = {'title' : 'Number of vaccines types used'},\n",
    "      )\n",
    "\n",
    "layout = dict(title = 'Number of vaccines used against COVID-19 - robinson earth projection', \n",
    "              geo = dict( projection = {'type':'robinson'}, \n",
    "                         showlakes = True, \n",
    "                         lakecolor = 'rgb(0,191,255)'))\n",
    "fig = pg.Figure(data = [num_vac], \n",
    "              layout = layout)\n",
    "po.iplot(fig)\n",
    "fig.write_image('num_vac.png',scale=5)"
   ]
  },
  {
   "cell_type": "code",
   "execution_count": null,
   "id": "cafd6996",
   "metadata": {},
   "outputs": [],
   "source": [
    "# Merge vaccination dataset with one wich have the population per country\n",
    "owid_data=pd.read_csv(\"https://covid.ourworldindata.org/data/owid-covid-data.csv\") # https://covid.ourworldindata.org/data/owid-covid-data.csv"
   ]
  },
  {
   "cell_type": "code",
   "execution_count": null,
   "id": "490ed68a",
   "metadata": {},
   "outputs": [],
   "source": [
    "owid_data['date'] = pd.to_datetime(owid_data['date'])\n",
    "owid_data.head(5)"
   ]
  },
  {
   "cell_type": "code",
   "execution_count": null,
   "id": "133b4358",
   "metadata": {},
   "outputs": [],
   "source": [
    "# Extract the population and the country from the owid_data\n",
    "owid_data_m=owid_data.groupby(\"location\").max(\"population\")"
   ]
  },
  {
   "cell_type": "code",
   "execution_count": null,
   "id": "fb096057",
   "metadata": {},
   "outputs": [],
   "source": [
    "# Merge the two datasets\n",
    "mergdata=pd.merge(vac_data_rm2,owid_data_m,how=\"right\",left_on=\"COUNTRY\",right_on=\"location\",validate=\"one_to_one\")\n",
    "mergdata=mergdata.dropna(axis=0,how=\"all\")\n",
    "mergdata.head(5)"
   ]
  },
  {
   "cell_type": "code",
   "execution_count": null,
   "id": "d8a99794",
   "metadata": {},
   "outputs": [],
   "source": [
    "# Compute the vaccination rate\n",
    "mergdata[\"vac_rate\"]=(mergdata[\"PERSONS_VACCINATED_1PLUS_DOSE\"]/mergdata[\"population\"])*100\n",
    "print(mergdata[\"vac_rate\"].max())\n",
    "mergdata=mergdata.sort_values(by=\"vac_rate\",ascending=False)\n",
    "mergdata.iloc[0,0]"
   ]
  },
  {
   "cell_type": "code",
   "execution_count": null,
   "id": "7d9071cf",
   "metadata": {},
   "outputs": [],
   "source": [
    "# Compute correlation between the vaccination rate \n",
    "temp=mergdata[[\"vac_rate\",\"NUMBER_VACCINES_TYPES_USED\"]].dropna(axis=0)\n",
    "pearsonr(np.array(temp.iloc[:,0]),np.array(temp.iloc[:,1]))"
   ]
  },
  {
   "cell_type": "code",
   "execution_count": null,
   "id": "01564923",
   "metadata": {},
   "outputs": [],
   "source": [
    "# Plot the vaccination rate\n",
    "vac_rate = dict(\n",
    "        type = 'choropleth',\n",
    "        colorscale = 'Portland',\n",
    "        locations = mergdata['COUNTRY'],\n",
    "        locationmode = \"country names\",\n",
    "        z = mergdata['vac_rate'],\n",
    "        text = mergdata['COUNTRY'],\n",
    "        colorbar = {'title' : 'Vaccination rate'},\n",
    "      )\n",
    "layout = dict(title = 'Vaccination rate against COVID-19 - robinson projection', \n",
    "              geo = dict( projection = {'type':'robinson'}, \n",
    "                         showlakes = True, \n",
    "                         lakecolor = 'rgb(0,191,255)'))\n",
    "fig = pg.Figure(data = [vac_rate], \n",
    "              layout = layout)\n",
    "po.iplot(fig)\n",
    "fig.write_image('vac_rate.png',scale=5)"
   ]
  },
  {
   "cell_type": "markdown",
   "id": "c88f7362",
   "metadata": {},
   "source": [
    "**Question:** Name of vaccines per country"
   ]
  },
  {
   "cell_type": "code",
   "execution_count": null,
   "id": "94b46689",
   "metadata": {},
   "outputs": [],
   "source": [
    "sp=vac_data_rm[\"VACCINES_USED\"].str.split(\"-\",expand=False)\n",
    "vac_coun=pd.merge(vac_data_rm[\"COUNTRY\"],sp,left_index=True,right_index=True)\n",
    "vac_coun=vac_coun.explode(\"VACCINES_USED\")\n",
    "used_wrld_vac=pd.crosstab(vac_coun[\"COUNTRY\"],vac_coun[\"VACCINES_USED\"],margins=True).iloc[-1,:-1]\n",
    "#used_wrld_vac=used_wrld_vac/np.sum(used_wrld_vac)*100\n",
    "fig=px.bar(used_wrld_vac)\n",
    "fig.show()\n",
    "fig.write_image('prop_vac.png',scale=5)\n",
    "len(used_wrld_vac.index)"
   ]
  }
 ],
 "metadata": {
  "kernelspec": {
   "display_name": "Python 3 (ipykernel)",
   "language": "python",
   "name": "python3"
  },
  "language_info": {
   "codemirror_mode": {
    "name": "ipython",
    "version": 3
   },
   "file_extension": ".py",
   "mimetype": "text/x-python",
   "name": "python",
   "nbconvert_exporter": "python",
   "pygments_lexer": "ipython3",
   "version": "3.9.10"
  }
 },
 "nbformat": 4,
 "nbformat_minor": 5
}
